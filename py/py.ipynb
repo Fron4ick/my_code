{
 "cells": [
  {
   "cell_type": "code",
   "execution_count": null,
   "id": "f16ffff0",
   "metadata": {
    "vscode": {
     "languageId": "plaintext"
    }
   },
   "outputs": [],
   "source": [
    "for i in range(16):\n",
    "    print(\\\n",
    "    "
   ]
  }
 ],
 "metadata": {
  "language_info": {
   "name": "python"
  }
 },
 "nbformat": 4,
 "nbformat_minor": 5
}
